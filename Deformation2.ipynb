{
 "cells": [
  {
   "cell_type": "code",
   "execution_count": 95,
   "metadata": {},
   "outputs": [],
   "source": [
    "# Дано:\n",
    "L = 0.1 # длина нити\n",
    "N = 11 # количество узлов\n",
    "l = L/(N-1) # длина каждого сегмента\n",
    "F = 100 # сила действующая на центральный узел\n",
    "E = 1000 # модуль Юнга\n",
    "rho = 10 # линейная плотность нити\n",
    "m = rho * l # масса каждого узла\n",
    "dt = 0.001 # шаг по времени\n",
    "t = 4 # количество шагов времени\n",
    "points = [{'x':i*l, 'y':10., 'vx':0., 'vy':0.} for i in range(0, N)]\n",
    "centre_point = N/2\n",
    "\n",
    "def get_distance(p1, p2):\n",
    "    p0 = {'x': p1['x'] - p2['x'], 'y': p1['y'] - p2['y']}\n",
    "    return ((p0['x'])**2 + (p0['y'])**2)**0.5, p0\n",
    "\n",
    "def get_f_vec(F, l, p0):\n",
    "    k = float(F) / l\n",
    "    return {'x': k*p0['x'], 'y': k*p0['y']}\n",
    "\n",
    "def sum_vec(*vecs):\n",
    "    rez = {'x': 0, 'y': 0}\n",
    "    for vec in vecs:\n",
    "        rez['x'] += vec['x']\n",
    "        rez['y'] += vec['y']\n",
    "    return rez\n",
    "\n",
    "def get_a(F_vec, m):\n",
    "    return {'x': F_vec['x'] / m, 'y': F_vec['y'] / m}\n",
    "\n",
    "def change_v(index_of_point, a_vec):\n",
    "    p = points[index_of_point]\n",
    "    p['vx'] += a_vec['x'] * dt\n",
    "    p['vy'] += a_vec['y'] * dt\n",
    "\n",
    "def move_points():\n",
    "    for i in range(N):\n",
    "        p = points[i]\n",
    "        p['x'] += p['vx']\n",
    "        p['y'] += p['vy']"
   ]
  },
  {
   "cell_type": "code",
   "execution_count": 96,
   "metadata": {},
   "outputs": [
    {
     "name": "stdout",
     "output_type": "stream",
     "text": [
      "F_vec = {'y': -100.0, 'x': 0.0}\n",
      "pr0 = {'y': 0.0, 'x': 0.009999999999999995}\n",
      "Fr_vec = {'y': -0.0, 'x': -5.204170427930421e-13}\n",
      "F_point = {'y': -100.0, 'x': -6.938893903907228e-13}\n",
      "a_vec = {'y': -1000.0, 'x': -6.938893903907228e-12}\n",
      "####################\n",
      "F_vec = {'y': -100.0, 'x': 0.0}\n",
      "pr0 = {'y': 1.0, 'x': 0.010000000000020812}\n",
      "Fr_vec = {'y': 99000.04999625032, 'x': 990.0004999645636}\n",
      "F_point = {'y': 197900.09999250062, 'x': 2.7472424335428514e-09}\n",
      "a_vec = {'y': 1979000.9999250062, 'x': 2.7472424335428514e-08}\n",
      "####################\n",
      "F_vec = {'y': -100.0, 'x': 0.0}\n",
      "pr0 = {'y': -2967.0014998875095, 'x': -9.89000499970081}\n",
      "Fr_vec = {'y': -296699149.99430645, 'x': -988997.166655266}\n",
      "F_point = {'y': -593398399.9886129, 'x': -1.066399272531271e-05}\n",
      "a_vec = {'y': -5933983999.886128, 'x': -0.0001066399272531271}\n",
      "####################\n",
      "F_vec = {'y': -100.0, 'x': 0.0}\n",
      "pr0 = {'y': 9885030.997292895, 'x': 19780.086560379583}\n",
      "Fr_vec = {'y': 988503098729.2916, 'x': 1978008654.0369484}\n",
      "F_point = {'y': 1977006197358.5833, 'x': 0.040436506271362305}\n",
      "a_vec = {'y': 19770061973585.832, 'x': 0.40436506271362305}\n",
      "####################\n"
     ]
    }
   ],
   "source": [
    "for _ in range(t):\n",
    "    for pi in range(1, N-1): # pi - index of point\n",
    "        lr, pr0 = get_distance(points[pi+1], points[pi]) # расстояния до правого соседа\n",
    "        ll, pl0 = get_distance(points[pi-1], points[pi]) # расстояния до левого соседа\n",
    "        er = (lr - l) / l # относительная деформация связи с правым соседом\n",
    "        el = (ll - l) / l # относительная деформация связи с левым соседом\n",
    "        Fr = er * E # сила натяжения нити к правому соседу\n",
    "        Fl = el * E # сила натяжения нити к левому соседу\n",
    "        Fr_vec = get_f_vec(Fr, lr, pr0)\n",
    "        Fl_vec = get_f_vec(Fl, ll, pl0)\n",
    "        F_vec = {'x': 0, 'y': 0}\n",
    "        if pi == centre_point:\n",
    "            F_vec = get_f_vec(F, 1, {'x': 0, 'y': -1})\n",
    "        F_point = sum_vec(Fr_vec, Fl_vec, F_vec)\n",
    "        a_vec = get_a(F_point, m)\n",
    "        change_v(pi, a_vec)\n",
    "        if pi == centre_point:\n",
    "            print 'F_vec =', F_vec\n",
    "            print 'pr0 =', pr0\n",
    "            print 'Fr_vec =', Fr_vec\n",
    "            print 'F_point =', F_point\n",
    "            print 'a_vec =', a_vec\n",
    "    #for p in points:\n",
    "    #    print p\n",
    "    print '#'*20\n",
    "    move_points()\n",
    "#points"
   ]
  },
  {
   "cell_type": "code",
   "execution_count": null,
   "metadata": {},
   "outputs": [],
   "source": []
  }
 ],
 "metadata": {
  "kernelspec": {
   "display_name": "Python 2",
   "language": "python",
   "name": "python2"
  },
  "language_info": {
   "codemirror_mode": {
    "name": "ipython",
    "version": 2
   },
   "file_extension": ".py",
   "mimetype": "text/x-python",
   "name": "python",
   "nbconvert_exporter": "python",
   "pygments_lexer": "ipython2",
   "version": "2.7.15"
  }
 },
 "nbformat": 4,
 "nbformat_minor": 2
}
