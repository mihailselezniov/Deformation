{
 "cells": [
  {
   "cell_type": "code",
   "execution_count": 1,
   "metadata": {},
   "outputs": [],
   "source": [
    "import matplotlib.pyplot as plt\n",
    "import seaborn as sns\n",
    "import numpy as np\n",
    "import pandas as pd\n",
    "sns.set(style=\"ticks\", color_codes=True)\n",
    "#iris = sns.load_dataset(\"iris\")\n",
    "#g = sns.pairplot(iris)\n",
    "\n",
    "#x = np.array([[1, 2],[10, 1], [5, 10]])\n",
    "#df = pd.DataFrame(x)\n",
    "#g = sns.pairplot(df)"
   ]
  },
  {
   "cell_type": "code",
   "execution_count": 2,
   "metadata": {},
   "outputs": [],
   "source": [
    "with open('../11/fib_all_data.txt', 'r') as f:\n",
    "    data_is_broken = f.readlines()\n",
    "data_is_broken = list(map(int, data_is_broken))\n",
    "\n",
    "X, Y = [], []\n",
    "for i, val in enumerate(data_is_broken):\n",
    "    Y.extend([i%2]*val)"
   ]
  },
  {
   "cell_type": "code",
   "execution_count": 3,
   "metadata": {},
   "outputs": [
    {
     "name": "stdout",
     "output_type": "stream",
     "text": [
      "0.0\n",
      "1.0\n",
      "2.0\n",
      "3.0\n",
      "4.0\n",
      "5.0\n",
      "6.0\n",
      "7.0\n",
      "8.0\n",
      "9.0\n"
     ]
    }
   ],
   "source": [
    "n = tuple(map(float, range(10)))\n",
    "i = 0\n",
    "y = []\n",
    "a = np.empty((0,8), dtype=np.float64)\n",
    "for i0 in n:\n",
    "    for i1 in n:\n",
    "        for i2 in n:\n",
    "            for i3 in n:\n",
    "                for i4 in n:\n",
    "                    for i5 in n:\n",
    "                        for i6 in n:\n",
    "                            for i7 in n:\n",
    "                                if 0 not in [i4, i5, i6]:\n",
    "                                    if not Y[i]:\n",
    "                                        X.append([i0, i1, i2, i3, i4, i5, i6, i7])\n",
    "                                i += 1\n",
    "    a = np.append(a, np.array(X), axis=0)\n",
    "    X = []\n",
    "    print(i0)\n",
    "    #break"
   ]
  },
  {
   "cell_type": "code",
   "execution_count": 4,
   "metadata": {},
   "outputs": [
    {
     "name": "stdout",
     "output_type": "stream",
     "text": [
      "(9381309, 8)\n"
     ]
    }
   ],
   "source": [
    "print(a.shape)"
   ]
  },
  {
   "cell_type": "code",
   "execution_count": 5,
   "metadata": {},
   "outputs": [],
   "source": [
    "df = pd.DataFrame(a)"
   ]
  },
  {
   "cell_type": "code",
   "execution_count": null,
   "metadata": {},
   "outputs": [],
   "source": [
    "g = sns.pairplot(df)"
   ]
  },
  {
   "cell_type": "code",
   "execution_count": null,
   "metadata": {},
   "outputs": [],
   "source": [
    "g.savefig('pairplot.png')"
   ]
  }
 ],
 "metadata": {
  "kernelspec": {
   "display_name": "Python 3",
   "language": "python",
   "name": "python3"
  },
  "language_info": {
   "codemirror_mode": {
    "name": "ipython",
    "version": 3
   },
   "file_extension": ".py",
   "mimetype": "text/x-python",
   "name": "python",
   "nbconvert_exporter": "python",
   "pygments_lexer": "ipython3",
   "version": "3.7.1"
  }
 },
 "nbformat": 4,
 "nbformat_minor": 2
}
