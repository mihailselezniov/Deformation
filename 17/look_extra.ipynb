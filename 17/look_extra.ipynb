{
 "cells": [
  {
   "cell_type": "code",
   "execution_count": 1,
   "metadata": {},
   "outputs": [
    {
     "name": "stdout",
     "output_type": "stream",
     "text": [
      "0\n",
      "1\n",
      "2\n",
      "3\n",
      "4\n",
      "5\n",
      "6\n",
      "7\n",
      "8\n"
     ]
    }
   ],
   "source": [
    "# -*- coding: utf-8 -*-\n",
    "import numpy as np\n",
    "import matplotlib.pyplot as plt\n",
    "import seaborn as sns\n",
    "from sklearn.model_selection import train_test_split\n",
    "from sklearn.metrics import accuracy_score, confusion_matrix, classification_report, roc_auc_score, average_precision_score, f1_score\n",
    "from sklearn.linear_model import LogisticRegression, SGDClassifier\n",
    "from sklearn.svm import LinearSVC, SVC\n",
    "from sklearn.neighbors import KNeighborsClassifier\n",
    "from sklearn.naive_bayes import BernoulliNB\n",
    "from sklearn.ensemble import RandomForestClassifier\n",
    "from sklearn.neural_network import MLPClassifier\n",
    "#from sklearn.externals import joblib\n",
    "from xgboost import XGBClassifier, XGBRegressor\n",
    "import collections\n",
    "\n",
    "\n",
    "ex_name = '13_1_mlp_4.txt'\n",
    "ppl = [0.8, 0.9]# predict_proba_limits\n",
    "folder_name = 'ml_threads/'\n",
    "f_name = folder_name + ex_name\n",
    "\n",
    "par = {}\n",
    "parts = 10\n",
    "parts4 = 100\n",
    "par['pressure_time'] = {'Min': 0.0, 'Max': 100.0}\n",
    "par['pressure_radius'] = {'Min': 0.0, 'Max': 5.0}\n",
    "par['pressure_amplitude'] = {'Min': 0.0, 'Max': 200.0}\n",
    "par['length'] = {'Min': 10.0, 'Max': 100.0}\n",
    "par['diameter'] = {'Min': 0.01, 'Max': 0.5}\n",
    "par['young'] = {'Min': 60.0, 'Max': 300.0}\n",
    "par['density'] = {'Min': 1000.0, 'Max': 2000.0}\n",
    "par['strength'] = {'Min': 0.2, 'Max': 10.0}\n",
    "order_par = ['length', 'diameter', 'young', 'density', 'pressure_time', 'pressure_radius', 'pressure_amplitude', 'strength']\n",
    "\n",
    "def get_list(Min, Max):\n",
    "    return list(map(lambda x: round(x, 2), np.arange(Min, Max+0.01, (Max-Min)/(parts-1))))\n",
    "\n",
    "def get_list4(Min, Max):\n",
    "    return list(map(lambda x: round(x, 4), np.arange(Min, Max+0.01, (Max-Min)/(parts4-1))))\n",
    "\n",
    "def get_raw(par_inxs):\n",
    "    return [get_list4(**par[par_name])[par_inxs[pi]] for pi, par_name in enumerate(order_par)]\n",
    "\n",
    "#print(get_list(**{'Min': 0, 'Max': 1}))\n",
    "\n",
    "e0 = tuple(enumerate(get_list(**par['length'])))\n",
    "e1 = tuple(enumerate(get_list(**par['diameter'])))\n",
    "e2 = tuple(enumerate(get_list(**par['young'])))\n",
    "e3 = tuple(enumerate(get_list(**par['density'])))\n",
    "e4 = tuple(enumerate(get_list(**par['pressure_time'])))\n",
    "e5 = tuple(enumerate(get_list(**par['pressure_radius'])))\n",
    "e6 = tuple(enumerate(get_list(**par['pressure_amplitude'])))\n",
    "e7 = tuple(enumerate(get_list(**par['strength'])))\n",
    "\n",
    "\n",
    "\n",
    "extreme_values = [[\n",
    "        par['length']['Min'],\n",
    "        par['diameter']['Min'],\n",
    "        par['young']['Min'],\n",
    "        par['density']['Min'],\n",
    "        par['pressure_time']['Min'],#get_list(**par['pressure_time'])[1],\n",
    "        par['pressure_radius']['Min'],#get_list(**par['pressure_radius'])[1],\n",
    "        par['pressure_amplitude']['Min'],#get_list(**par['pressure_amplitude'])[1],\n",
    "        par['strength']['Min'],\n",
    "        ],\n",
    "        [\n",
    "        par['length']['Max'],\n",
    "        par['diameter']['Max'],\n",
    "        par['young']['Max'],\n",
    "        par['density']['Max'],\n",
    "        par['pressure_time']['Max'],\n",
    "        par['pressure_radius']['Max'],\n",
    "        par['pressure_amplitude']['Max'],\n",
    "        par['strength']['Max'],\n",
    "        ]\n",
    "    ]\n",
    "extreme_values = np.array(extreme_values)\n",
    "#x_train = (x_train - extreme_values.min(axis=0)) / (extreme_values.max(axis=0) - extreme_values.min(axis=0))\n",
    "\n",
    "\n",
    "with open('../15/data3k_2.txt', 'r') as f:\n",
    "    data_is_broken = f.readlines()\n",
    "data_is_broken = list(map(int, data_is_broken))\n",
    "\n",
    "y_test = []\n",
    "for i, val in enumerate(data_is_broken):\n",
    "    y_test.extend([i%2]*val)\n",
    "\n",
    "\n",
    "new_parts = 19\n",
    "def get_new_list(Min, Max):\n",
    "    return list(map(lambda x: round(x, 2), np.arange(Min, Max+0.01, (Max-Min)/(new_parts-1))))[1::2]\n",
    "\n",
    "e2_0 = tuple(enumerate(get_new_list(**par['length'])))\n",
    "e2_1 = tuple(enumerate(get_new_list(**par['diameter'])))\n",
    "e2_2 = tuple(enumerate(get_new_list(**par['young'])))\n",
    "e2_3 = tuple(enumerate(get_new_list(**par['density'])))\n",
    "e2_4 = tuple(enumerate(get_new_list(**par['pressure_time'])))\n",
    "e2_5 = tuple(enumerate(get_new_list(**par['pressure_radius'])))\n",
    "e2_6 = tuple(enumerate(get_new_list(**par['pressure_amplitude'])))\n",
    "e2_7 = tuple(enumerate(get_new_list(**par['strength'])))\n",
    "\n",
    "x_test = []\n",
    "for i0, l in e2_0:\n",
    "    for i1, di in e2_1:\n",
    "        for i2, y in e2_2:\n",
    "            for i3, de in e2_3:\n",
    "                for i4, pt in e2_4:\n",
    "                    for i5, pr in e2_5:\n",
    "                        for i6, pa in e2_6:\n",
    "                            for i7, s in e2_7:\n",
    "                                #if 0 not in [i4, i5, i6]:\n",
    "                                #print(l, di, y, de, pt, pr, pa, s)\n",
    "                                x_test.append([l, di, y, de, pt, pr, pa, s])\n",
    "    print(i0)\n",
    "x_test, y_test = np.array(x_test), np.array(y_test)\n",
    "\n",
    "x_test = (x_test - extreme_values.min(axis=0)) / (extreme_values.max(axis=0) - extreme_values.min(axis=0))\n",
    "\n",
    "\n",
    "def make_str(data):\n",
    "    return ''.join(map(str, data))\n",
    "def make_set(data):\n",
    "    return {make_str(i) for i in data}\n",
    "\n",
    "with open(f_name, 'r') as f:\n",
    "    threads = f.readlines()\n",
    "\n",
    "roc_metrics, pr_metrics, f1_metrics = [], [], []\n",
    "roc_metric, pr_metric, f1_metric = [], [], []\n"
   ]
  },
  {
   "cell_type": "code",
   "execution_count": 2,
   "metadata": {},
   "outputs": [
    {
     "name": "stdout",
     "output_type": "stream",
     "text": [
      "\n",
      "\n",
      "\n",
      " ########## 500 ##########\n",
      "\n",
      " ---------- MLPClassifier ----------\n",
      "(43046721, 8) (43046721,)\n",
      "y_test {1: 33300144, 0: 9746577} y_train {1: 215, 0: 285}\n"
     ]
    }
   ],
   "source": [
    "cut = 500\n",
    "print('\\n\\n\\n', '#'*10, cut, '#'*10)\n",
    "\n",
    "x_train, y_train = [], []\n",
    "for t in threads[:cut]:\n",
    "    tr = list(map(int, t.replace('\\n', '').split(',')))\n",
    "    x_train.append(tr[:-1])\n",
    "    y_train.append(tr[-1])\n",
    "x_train, y_train = np.array(x_train), np.array(y_train)\n",
    "\n",
    "x_train = np.array(list(map(get_raw, x_train)))\n",
    "x_train = (x_train - extreme_values.min(axis=0)) / (extreme_values.max(axis=0) - extreme_values.min(axis=0))\n",
    "model = MLPClassifier(activation='tanh', solver='adam', hidden_layer_sizes=(70, 70, 70), max_iter=100000, random_state=42)\n",
    "print('\\n', '-'*10, model.__class__.__name__, '-'*10)\n",
    "print(x_test.shape, y_test.shape)\n",
    "print('y_test', dict(collections.Counter(y_test)), 'y_train', dict(collections.Counter(y_train)))\n",
    "# fit model on training data\n",
    "# model.fit(x_train, y_train)"
   ]
  },
  {
   "cell_type": "code",
   "execution_count": 17,
   "metadata": {},
   "outputs": [
    {
     "data": {
      "text/plain": [
       "((500, 500), (8,), (8, 8))"
      ]
     },
     "execution_count": 17,
     "metadata": {},
     "output_type": "execute_result"
    }
   ],
   "source": [
    "u, s, vh = np.linalg.svd(x_train, full_matrices=True)\n",
    "u.shape, s.shape, vh.shape\n",
    "#u[:,:2]"
   ]
  },
  {
   "cell_type": "code",
   "execution_count": 26,
   "metadata": {},
   "outputs": [
    {
     "data": {
      "text/plain": [
       "<seaborn.axisgrid.FacetGrid at 0x7fbd005275e0>"
      ]
     },
     "execution_count": 26,
     "metadata": {},
     "output_type": "execute_result"
    },
    {
     "data": {
      "image/png": "[encoded data removed]",
      "text/plain": [
       "<Figure size 402.375x360 with 1 Axes>"
      ]
     },
     "metadata": {
      "needs_background": "light"
     },
     "output_type": "display_data"
    }
   ],
   "source": [
    "import seaborn as sns\n",
    "import pandas as pd\n",
    "df = pd.DataFrame(dict(x=u[:,0], y=u[:,1], c=y_train))\n",
    "sns.lmplot(x='x', y='y', data=df, hue='c')\n"
   ]
  },
  {
   "cell_type": "code",
   "execution_count": 29,
   "metadata": {},
   "outputs": [
    {
     "data": {
      "text/plain": [
       "<seaborn.axisgrid.FacetGrid at 0x7fbbe0bb79d0>"
      ]
     },
     "execution_count": 29,
     "metadata": {},
     "output_type": "execute_result"
    },
    {
     "data": {
      "image/png": "[encoded data removed]",
      "text/plain": [
       "<Figure size 402.375x360 with 1 Axes>"
      ]
     },
     "metadata": {
      "needs_background": "light"
     },
     "output_type": "display_data"
    }
   ],
   "source": [
    "df = pd.DataFrame(dict(x=x_train[:,0], y=x_train[:,1], c=y_train))\n",
    "sns.lmplot(x='x', y='y', data=df, hue='c', fit_reg=False)"
   ]
  },
  {
   "cell_type": "code",
   "execution_count": 43,
   "metadata": {},
   "outputs": [
    {
     "data": {
      "text/plain": [
       "<seaborn.axisgrid.FacetGrid at 0x7fbb9088e370>"
      ]
     },
     "execution_count": 43,
     "metadata": {},
     "output_type": "execute_result"
    },
    {
     "data": {
      "image/png": "[encoded data removed]",
      "text/plain": [
       "<Figure size 402.375x360 with 1 Axes>"
      ]
     },
     "metadata": {
      "needs_background": "light"
     },
     "output_type": "display_data"
    }
   ],
   "source": [
    "df = pd.DataFrame(dict(x=x_train[:,0][:50], y=x_train[:,1][:50], c=y_train[:50]))\n",
    "sns.lmplot(x='x', y='y', data=df, hue='c', fit_reg=False)"
   ]
  },
  {
   "cell_type": "code",
   "execution_count": 54,
   "metadata": {},
   "outputs": [
    {
     "name": "stdout",
     "output_type": "stream",
     "text": [
      "0 0.8805\n",
      "1 0.8742\n",
      "2 0.8747\n",
      "3 0.8744\n",
      "4 0.8789\n",
      "5 0.875\n",
      "6 0.8743\n",
      "7 0.8741\n",
      "8 0.8731\n",
      "9 0.8747\n",
      "10 0.8813\n",
      "11 0.874\n",
      "12 0.8753\n",
      "13 0.8731\n",
      "14 0.8751\n",
      "15 0.8738\n",
      "16 0.8735\n",
      "17 0.8742\n",
      "18 0.8745\n",
      "19 0.8741\n",
      "20 0.8739\n",
      "21 0.879\n",
      "22 0.8739\n",
      "23 0.8784\n",
      "24 0.8742\n",
      "25 0.8736\n",
      "26 0.8792\n",
      "27 0.8738\n",
      "28 0.8737\n",
      "29 0.8794\n",
      "30 0.8785\n",
      "31 0.8734\n",
      "32 0.7572\n",
      "33 0.7589\n",
      "34 0.7607\n",
      "35 0.7603\n",
      "36 0.76\n",
      "37 0.7603\n",
      "38 0.7607\n",
      "39 0.8789\n",
      "40 0.8795\n",
      "41 0.8796\n",
      "42 0.8799\n",
      "43 0.88\n",
      "44 0.8805\n",
      "45 0.8792\n",
      "46 0.8799\n",
      "47 0.8757\n",
      "48 0.8794\n",
      "49 0.8794\n",
      "50 0.8796\n",
      "51 0.8793\n",
      "52 0.8805\n",
      "53 0.8793\n",
      "54 0.8792\n",
      "55 0.8792\n",
      "56 0.8773\n",
      "57 0.8776\n",
      "58 0.8796\n",
      "59 0.8797\n",
      "60 0.8788\n",
      "61 0.8788\n",
      "62 0.8795\n",
      "63 0.8789\n",
      "64 0.8789\n",
      "65 0.8809\n",
      "66 0.8795\n",
      "67 0.8811\n",
      "68 0.8738\n",
      "69 0.8777\n",
      "70 0.8754\n",
      "71 0.8784\n",
      "72 0.879\n",
      "73 0.8792\n",
      "74 0.8802\n",
      "75 0.8793\n",
      "76 0.8787\n",
      "77 0.8785\n",
      "78 0.8789\n",
      "79 0.878\n",
      "80 0.8782\n",
      "81 0.8786\n",
      "82 0.8785\n",
      "83 0.8788\n",
      "84 0.8787\n",
      "85 0.879\n",
      "86 0.879\n",
      "87 0.8786\n",
      "88 0.8786\n",
      "89 0.8796\n",
      "90 0.8796\n",
      "91 0.8798\n",
      "92 0.8735\n",
      "93 0.8766\n",
      "94 0.8795\n",
      "95 0.8744\n",
      "96 0.8756\n",
      "97 0.8765\n",
      "98 0.8805\n",
      "99 0.8807\n",
      "100 0.8744\n",
      "101 0.878\n",
      "102 0.879\n",
      "103 0.8791\n",
      "104 0.8794\n",
      "105 0.8757\n",
      "106 0.8791\n",
      "107 0.8798\n",
      "108 0.8779\n",
      "109 0.8775\n",
      "110 0.8802\n",
      "111 0.8776\n",
      "112 0.8772\n",
      "113 0.8804\n",
      "114 0.8769\n",
      "115 0.8771\n",
      "116 0.881\n",
      "117 0.7671\n",
      "118 0.7669\n",
      "119 0.7677\n",
      "120 0.7661\n",
      "121 0.7665\n",
      "122 0.7672\n",
      "123 0.7667\n",
      "124 0.8798\n",
      "125 0.766\n",
      "126 0.8798\n",
      "127 0.8789\n",
      "128 0.869\n",
      "129 0.8771\n",
      "130 0.8777\n",
      "131 0.8789\n",
      "132 0.8803\n",
      "133 0.8798\n",
      "134 0.879\n",
      "135 0.8785\n",
      "136 0.879\n",
      "137 0.877\n",
      "138 0.8773\n",
      "139 0.8769\n",
      "140 0.8814\n",
      "141 0.8777\n",
      "142 0.8802\n",
      "143 0.8765\n",
      "144 0.8723\n",
      "145 0.8772\n",
      "146 0.8814\n",
      "147 0.8811\n",
      "148 0.8767\n",
      "149 0.8766\n",
      "150 0.878\n",
      "151 0.8787\n",
      "152 0.8776\n",
      "153 0.8771\n",
      "154 0.8769\n",
      "155 0.8767\n",
      "156 0.8723\n",
      "157 0.8795\n",
      "158 0.8798\n",
      "159 0.8774\n",
      "160 0.8694\n",
      "161 0.8717\n",
      "162 0.8769\n",
      "163 0.8774\n",
      "164 0.8773\n",
      "165 0.8813\n",
      "166 0.8831\n",
      "167 0.8816\n",
      "168 0.8827\n",
      "169 0.8817\n",
      "170 0.8833\n",
      "171 0.8815\n",
      "172 0.8801\n",
      "173 0.8812\n",
      "174 0.8797\n",
      "175 0.8823\n",
      "176 0.8826\n",
      "177 0.8802\n",
      "178 0.8695\n",
      "179 0.8808\n",
      "180 0.8804\n",
      "181 0.88\n",
      "182 0.8783\n",
      "183 0.8789\n",
      "184 0.8791\n",
      "185 0.8793\n",
      "186 0.8801\n",
      "187 0.8792\n",
      "188 0.8685\n",
      "189 0.866\n",
      "190 0.8677\n",
      "191 0.8817\n",
      "192 0.8693\n",
      "193 0.8685\n",
      "194 0.8764\n",
      "195 0.8804\n",
      "196 0.8818\n",
      "197 0.8798\n",
      "198 0.8774\n",
      "199 0.8826\n",
      "200 0.8802\n",
      "201 0.8803\n",
      "202 0.8804\n",
      "203 0.8792\n",
      "204 0.8801\n",
      "205 0.88\n",
      "206 0.8807\n",
      "207 0.88\n",
      "208 0.8798\n",
      "209 0.8799\n",
      "210 0.882\n",
      "211 0.8808\n",
      "212 0.8794\n",
      "213 0.8799\n",
      "214 0.8795\n",
      "215 0.8785\n",
      "216 0.8805\n",
      "217 0.8813\n",
      "218 0.883\n",
      "219 0.7531\n",
      "220 0.8796\n",
      "221 0.8814\n",
      "222 0.8823\n",
      "223 0.8803\n",
      "224 0.8821\n",
      "225 0.8788\n",
      "226 0.882\n",
      "227 0.8806\n",
      "228 0.8794\n",
      "229 0.8811\n",
      "230 0.8802\n",
      "231 0.8816\n",
      "232 0.8822\n",
      "233 0.8829\n",
      "234 0.8785\n",
      "235 0.8806\n",
      "236 0.8841\n",
      "237 0.882\n",
      "238 0.8808\n",
      "239 0.8821\n",
      "240 0.8816\n",
      "241 0.8798\n",
      "242 0.8829\n",
      "243 0.8817\n",
      "244 0.8793\n",
      "245 0.8791\n",
      "246 0.8779\n",
      "247 0.8802\n",
      "248 0.8787\n",
      "249 0.8817\n",
      "250 0.8793\n",
      "251 0.8791\n",
      "252 0.8803\n",
      "253 0.882\n",
      "254 0.8801\n",
      "255 0.8812\n",
      "256 0.8785\n",
      "257 0.8816\n",
      "258 0.877\n",
      "259 0.8795\n",
      "260 0.8795\n",
      "261 0.8796\n",
      "262 0.8824\n",
      "263 0.8819\n",
      "264 0.8808\n",
      "265 0.8809\n",
      "266 0.8829\n",
      "267 0.8791\n",
      "268 0.8844\n",
      "269 0.883\n",
      "270 0.8813\n",
      "271 0.8796\n",
      "272 0.8831\n",
      "273 0.8838\n",
      "274 0.8817\n",
      "275 0.8813\n",
      "276 0.8832\n",
      "277 0.8816\n",
      "278 0.8812\n",
      "279 0.8827\n",
      "280 0.8808\n",
      "281 0.8817\n",
      "282 0.8757\n",
      "283 0.8826\n",
      "284 0.8763\n",
      "285 0.8732\n",
      "286 0.8813\n",
      "287 0.8828\n",
      "288 0.8835\n",
      "289 0.8803\n",
      "290 0.8825\n",
      "291 0.881\n",
      "292 0.8818\n",
      "293 0.8827\n",
      "294 0.8821\n",
      "295 0.8827\n",
      "296 0.8809\n",
      "297 0.883\n",
      "298 0.8798\n",
      "299 0.884\n",
      "300 0.8822\n",
      "301 0.8807\n",
      "302 0.8801\n",
      "303 0.877\n",
      "304 0.8788\n",
      "305 0.8769\n",
      "306 0.8799\n",
      "307 0.8792\n",
      "308 0.8801\n",
      "309 0.8805\n",
      "310 0.8762\n",
      "311 0.8799\n",
      "312 0.8798\n",
      "313 0.8802\n",
      "314 0.8785\n",
      "315 0.8804\n",
      "316 0.878\n",
      "317 0.8805\n",
      "318 0.8798\n",
      "319 0.8784\n",
      "320 0.8794\n",
      "321 0.8802\n",
      "322 0.8778\n",
      "323 0.8765\n",
      "324 0.8785\n",
      "325 0.8773\n",
      "326 0.878\n",
      "327 0.878\n",
      "328 0.879\n",
      "329 0.8759\n",
      "330 0.878\n",
      "331 0.8774\n",
      "332 0.8768\n",
      "333 0.8772\n",
      "334 0.8766\n",
      "335 0.8779\n",
      "336 0.8773\n",
      "337 0.8801\n",
      "338 0.876\n",
      "339 0.8729\n",
      "340 0.8777\n",
      "341 0.8751\n",
      "342 0.8751\n",
      "343 0.8774\n",
      "344 0.876\n",
      "345 0.8764\n",
      "346 0.8791\n",
      "347 0.8779\n",
      "348 0.875\n",
      "349 0.8801\n",
      "350 0.8807\n",
      "351 0.8748\n",
      "352 0.8787\n",
      "353 0.8772\n",
      "354 0.8783\n",
      "355 0.8801\n",
      "356 0.8803\n",
      "357 0.8794\n",
      "358 0.8802\n",
      "359 0.8801\n",
      "360 0.8747\n",
      "361 0.8801\n",
      "362 0.8776\n",
      "363 0.8796\n",
      "364 0.8776\n",
      "365 0.8775\n",
      "366 0.8783\n",
      "367 0.8817\n",
      "368 0.8805\n",
      "369 0.8799\n",
      "370 0.8798\n",
      "371 0.8807\n",
      "372 0.8807\n",
      "373 0.8817\n",
      "374 0.8792\n",
      "375 0.8801\n",
      "376 0.8799\n",
      "377 0.8765\n",
      "378 0.8777\n",
      "379 0.8822\n",
      "380 0.8814\n",
      "381 0.8774\n",
      "382 0.8805\n",
      "383 0.88\n",
      "384 0.88\n",
      "385 0.8787\n",
      "386 0.8812\n",
      "387 0.8811\n",
      "388 0.8821\n",
      "389 0.8816\n",
      "390 0.8818\n",
      "391 0.8795\n",
      "392 0.8785\n",
      "393 0.8789\n",
      "394 0.8796\n",
      "395 0.8791\n",
      "396 0.8801\n",
      "397 0.8799\n",
      "398 0.8802\n",
      "399 0.8796\n",
      "400 0.8804\n",
      "401 0.8811\n",
      "402 0.8812\n",
      "403 0.8787\n",
      "404 0.8811\n",
      "405 0.8795\n",
      "406 0.8818\n",
      "407 0.8747\n",
      "408 0.8793\n",
      "409 0.8802\n",
      "410 0.8788\n",
      "411 0.8797\n",
      "412 0.8796\n",
      "413 0.878\n",
      "414 0.8795\n",
      "415 0.8795\n",
      "416 0.8795\n",
      "417 0.8802\n",
      "418 0.8795\n",
      "419 0.8794\n",
      "420 0.8779\n",
      "421 0.8783\n",
      "422 0.8797\n",
      "423 0.8794\n",
      "424 0.8786\n",
      "425 0.8799\n",
      "426 0.8822\n",
      "427 0.8798\n",
      "428 0.8791\n",
      "429 0.8793\n",
      "430 0.8792\n",
      "431 0.8798\n",
      "432 0.8793\n",
      "433 0.8794\n",
      "434 0.88\n",
      "435 0.8803\n",
      "436 0.8792\n",
      "437 0.8777\n",
      "438 0.8778\n",
      "439 0.8789\n",
      "440 0.8799\n",
      "441 0.8771\n",
      "442 0.8804\n",
      "443 0.88\n",
      "444 0.8794\n",
      "445 0.8796\n",
      "446 0.8844\n",
      "447 0.8801\n",
      "448 0.8814\n",
      "449 0.8764\n",
      "450 0.8787\n",
      "451 0.8767\n",
      "452 0.8802\n",
      "453 0.8803\n",
      "454 0.8796\n",
      "455 0.8771\n",
      "456 0.8761\n",
      "457 0.8776\n",
      "458 0.8791\n",
      "459 0.8801\n",
      "460 0.8759\n",
      "461 0.8756\n",
      "462 0.8819\n",
      "463 0.878\n",
      "464 0.8774\n",
      "465 0.8783\n",
      "466 0.8818\n",
      "467 0.8772\n",
      "468 0.8806\n",
      "469 0.8785\n",
      "470 0.8769\n",
      "471 0.8776\n",
      "472 0.8791\n",
      "473 0.8775\n",
      "474 0.8787\n",
      "475 0.8807\n",
      "476 0.8799\n",
      "477 0.8818\n",
      "478 0.8804\n",
      "479 0.8791\n",
      "480 0.883\n",
      "481 0.8815\n",
      "482 0.8805\n",
      "483 0.8799\n",
      "484 0.8836\n",
      "485 0.8775\n",
      "486 0.8771\n",
      "487 0.8807\n",
      "488 0.8775\n",
      "489 0.877\n",
      "490 0.8814\n",
      "491 0.8784\n",
      "492 0.7523\n",
      "493 0.7518\n",
      "494 0.7525\n",
      "495 0.8799\n",
      "496 0.8809\n",
      "497 0.8809\n",
      "498 0.8816\n",
      "499 0.8812\n",
      "[0.8805, 0.8742, 0.8747, 0.8744, 0.8789, 0.875, 0.8743, 0.8741, 0.8731, 0.8747, 0.8813, 0.874, 0.8753, 0.8731, 0.8751, 0.8738, 0.8735, 0.8742, 0.8745, 0.8741, 0.8739, 0.879, 0.8739, 0.8784, 0.8742, 0.8736, 0.8792, 0.8738, 0.8737, 0.8794, 0.8785, 0.8734, 0.7572, 0.7589, 0.7607, 0.7603, 0.76, 0.7603, 0.7607, 0.8789, 0.8795, 0.8796, 0.8799, 0.88, 0.8805, 0.8792, 0.8799, 0.8757, 0.8794, 0.8794, 0.8796, 0.8793, 0.8805, 0.8793, 0.8792, 0.8792, 0.8773, 0.8776, 0.8796, 0.8797, 0.8788, 0.8788, 0.8795, 0.8789, 0.8789, 0.8809, 0.8795, 0.8811, 0.8738, 0.8777, 0.8754, 0.8784, 0.879, 0.8792, 0.8802, 0.8793, 0.8787, 0.8785, 0.8789, 0.878, 0.8782, 0.8786, 0.8785, 0.8788, 0.8787, 0.879, 0.879, 0.8786, 0.8786, 0.8796, 0.8796, 0.8798, 0.8735, 0.8766, 0.8795, 0.8744, 0.8756, 0.8765, 0.8805, 0.8807, 0.8744, 0.878, 0.879, 0.8791, 0.8794, 0.8757, 0.8791, 0.8798, 0.8779, 0.8775, 0.8802, 0.8776, 0.8772, 0.8804, 0.8769, 0.8771, 0.881, 0.7671, 0.7669, 0.7677, 0.7661, 0.7665, 0.7672, 0.7667, 0.8798, 0.766, 0.8798, 0.8789, 0.869, 0.8771, 0.8777, 0.8789, 0.8803, 0.8798, 0.879, 0.8785, 0.879, 0.877, 0.8773, 0.8769, 0.8814, 0.8777, 0.8802, 0.8765, 0.8723, 0.8772, 0.8814, 0.8811, 0.8767, 0.8766, 0.878, 0.8787, 0.8776, 0.8771, 0.8769, 0.8767, 0.8723, 0.8795, 0.8798, 0.8774, 0.8694, 0.8717, 0.8769, 0.8774, 0.8773, 0.8813, 0.8831, 0.8816, 0.8827, 0.8817, 0.8833, 0.8815, 0.8801, 0.8812, 0.8797, 0.8823, 0.8826, 0.8802, 0.8695, 0.8808, 0.8804, 0.88, 0.8783, 0.8789, 0.8791, 0.8793, 0.8801, 0.8792, 0.8685, 0.866, 0.8677, 0.8817, 0.8693, 0.8685, 0.8764, 0.8804, 0.8818, 0.8798, 0.8774, 0.8826, 0.8802, 0.8803, 0.8804, 0.8792, 0.8801, 0.88, 0.8807, 0.88, 0.8798, 0.8799, 0.882, 0.8808, 0.8794, 0.8799, 0.8795, 0.8785, 0.8805, 0.8813, 0.883, 0.7531, 0.8796, 0.8814, 0.8823, 0.8803, 0.8821, 0.8788, 0.882, 0.8806, 0.8794, 0.8811, 0.8802, 0.8816, 0.8822, 0.8829, 0.8785, 0.8806, 0.8841, 0.882, 0.8808, 0.8821, 0.8816, 0.8798, 0.8829, 0.8817, 0.8793, 0.8791, 0.8779, 0.8802, 0.8787, 0.8817, 0.8793, 0.8791, 0.8803, 0.882, 0.8801, 0.8812, 0.8785, 0.8816, 0.877, 0.8795, 0.8795, 0.8796, 0.8824, 0.8819, 0.8808, 0.8809, 0.8829, 0.8791, 0.8844, 0.883, 0.8813, 0.8796, 0.8831, 0.8838, 0.8817, 0.8813, 0.8832, 0.8816, 0.8812, 0.8827, 0.8808, 0.8817, 0.8757, 0.8826, 0.8763, 0.8732, 0.8813, 0.8828, 0.8835, 0.8803, 0.8825, 0.881, 0.8818, 0.8827, 0.8821, 0.8827, 0.8809, 0.883, 0.8798, 0.884, 0.8822, 0.8807, 0.8801, 0.877, 0.8788, 0.8769, 0.8799, 0.8792, 0.8801, 0.8805, 0.8762, 0.8799, 0.8798, 0.8802, 0.8785, 0.8804, 0.878, 0.8805, 0.8798, 0.8784, 0.8794, 0.8802, 0.8778, 0.8765, 0.8785, 0.8773, 0.878, 0.878, 0.879, 0.8759, 0.878, 0.8774, 0.8768, 0.8772, 0.8766, 0.8779, 0.8773, 0.8801, 0.876, 0.8729, 0.8777, 0.8751, 0.8751, 0.8774, 0.876, 0.8764, 0.8791, 0.8779, 0.875, 0.8801, 0.8807, 0.8748, 0.8787, 0.8772, 0.8783, 0.8801, 0.8803, 0.8794, 0.8802, 0.8801, 0.8747, 0.8801, 0.8776, 0.8796, 0.8776, 0.8775, 0.8783, 0.8817, 0.8805, 0.8799, 0.8798, 0.8807, 0.8807, 0.8817, 0.8792, 0.8801, 0.8799, 0.8765, 0.8777, 0.8822, 0.8814, 0.8774, 0.8805, 0.88, 0.88, 0.8787, 0.8812, 0.8811, 0.8821, 0.8816, 0.8818, 0.8795, 0.8785, 0.8789, 0.8796, 0.8791, 0.8801, 0.8799, 0.8802, 0.8796, 0.8804, 0.8811, 0.8812, 0.8787, 0.8811, 0.8795, 0.8818, 0.8747, 0.8793, 0.8802, 0.8788, 0.8797, 0.8796, 0.878, 0.8795, 0.8795, 0.8795, 0.8802, 0.8795, 0.8794, 0.8779, 0.8783, 0.8797, 0.8794, 0.8786, 0.8799, 0.8822, 0.8798, 0.8791, 0.8793, 0.8792, 0.8798, 0.8793, 0.8794, 0.88, 0.8803, 0.8792, 0.8777, 0.8778, 0.8789, 0.8799, 0.8771, 0.8804, 0.88, 0.8794, 0.8796, 0.8844, 0.8801, 0.8814, 0.8764, 0.8787, 0.8767, 0.8802, 0.8803, 0.8796, 0.8771, 0.8761, 0.8776, 0.8791, 0.8801, 0.8759, 0.8756, 0.8819, 0.878, 0.8774, 0.8783, 0.8818, 0.8772, 0.8806, 0.8785, 0.8769, 0.8776, 0.8791, 0.8775, 0.8787, 0.8807, 0.8799, 0.8818, 0.8804, 0.8791, 0.883, 0.8815, 0.8805, 0.8799, 0.8836, 0.8775, 0.8771, 0.8807, 0.8775, 0.877, 0.8814, 0.8784, 0.7523, 0.7518, 0.7525, 0.8799, 0.8809, 0.8809, 0.8816, 0.8812]\n"
     ]
    }
   ],
   "source": [
    "f1s = []\n",
    "for i in range(500):\n",
    "    x_tr = list(x_train)[:]\n",
    "    y_tr = list(y_train)[:]\n",
    "    x_tr.pop(i)\n",
    "    y_tr.pop(i)\n",
    "    \n",
    "    model.fit(x_tr, y_tr)\n",
    "    y_pred = model.predict(x_test[:10000000])\n",
    "    y_pred = np.concatenate((y_pred, model.predict(x_test[10000000:20000000])))\n",
    "    y_pred = np.concatenate((y_pred, model.predict(x_test[20000000:30000000])))\n",
    "    y_pred = np.concatenate((y_pred, model.predict(x_test[30000000:40000000])))\n",
    "    y_pred = np.concatenate((y_pred, model.predict(x_test[40000000:])))\n",
    "    f1 = f1_score(y_test, y_pred, average=None)\n",
    "    f1 = round(float(f1[0]), 4)\n",
    "    f1s.append(f1)\n",
    "    print(i, f1)\n",
    "print(f1s)"
   ]
  },
  {
   "cell_type": "code",
   "execution_count": 55,
   "metadata": {},
   "outputs": [
    {
     "data": {
      "text/plain": [
       "[<matplotlib.lines.Line2D at 0x7fbbb0f051c0>]"
      ]
     },
     "execution_count": 55,
     "metadata": {},
     "output_type": "execute_result"
    },
    {
     "data": {
      "image/png": "[encoded data removed]",
      "text/plain": [
       "<Figure size 432x288 with 1 Axes>"
      ]
     },
     "metadata": {
      "needs_background": "light"
     },
     "output_type": "display_data"
    }
   ],
   "source": [
    "plt.plot(range(500), f1s)"
   ]
  },
  {
   "cell_type": "code",
   "execution_count": 59,
   "metadata": {},
   "outputs": [
    {
     "name": "stdout",
     "output_type": "stream",
     "text": [
      "481\n",
      "0.7379\n"
     ]
    }
   ],
   "source": [
    "x_tr, y_tr = [], []\n",
    "for i in range(500):\n",
    "    if f1s[i] > 0.8:\n",
    "        x_tr.append(x_train[i])\n",
    "        y_tr.append(y_train[i])\n",
    "        \n",
    "\n",
    "print(len(y_tr))\n",
    "model.fit(x_tr, y_tr)\n",
    "y_pred = model.predict(x_test[:10000000])\n",
    "y_pred = np.concatenate((y_pred, model.predict(x_test[10000000:20000000])))\n",
    "y_pred = np.concatenate((y_pred, model.predict(x_test[20000000:30000000])))\n",
    "y_pred = np.concatenate((y_pred, model.predict(x_test[30000000:40000000])))\n",
    "y_pred = np.concatenate((y_pred, model.predict(x_test[40000000:])))\n",
    "f1 = f1_score(y_test, y_pred, average=None)\n",
    "f1 = round(float(f1[0]), 4)\n",
    "print(f1)"
   ]
  },
  {
   "cell_type": "code",
   "execution_count": 61,
   "metadata": {},
   "outputs": [
    {
     "name": "stdout",
     "output_type": "stream",
     "text": [
      "493\n",
      "0.8823\n"
     ]
    }
   ],
   "source": [
    "x_tr, y_tr = [], []\n",
    "for i in range(500):\n",
    "    if f1s[i] > 0.76:\n",
    "        x_tr.append(x_train[i])\n",
    "        y_tr.append(y_train[i])\n",
    "        \n",
    "\n",
    "print(len(y_tr))\n",
    "model.fit(x_tr, y_tr)\n",
    "y_pred = model.predict(x_test[:10000000])\n",
    "y_pred = np.concatenate((y_pred, model.predict(x_test[10000000:20000000])))\n",
    "y_pred = np.concatenate((y_pred, model.predict(x_test[20000000:30000000])))\n",
    "y_pred = np.concatenate((y_pred, model.predict(x_test[30000000:40000000])))\n",
    "y_pred = np.concatenate((y_pred, model.predict(x_test[40000000:])))\n",
    "f1 = f1_score(y_test, y_pred, average=None)\n",
    "f1 = round(float(f1[0]), 4)\n",
    "print(f1)"
   ]
  },
  {
   "cell_type": "code",
   "execution_count": 62,
   "metadata": {},
   "outputs": [
    {
     "data": {
      "text/plain": [
       "0.8844"
      ]
     },
     "execution_count": 62,
     "metadata": {},
     "output_type": "execute_result"
    }
   ],
   "source": [
    "max(f1s)"
   ]
  },
  {
   "cell_type": "code",
   "execution_count": 67,
   "metadata": {
    "scrolled": true
   },
   "outputs": [
    {
     "name": "stdout",
     "output_type": "stream",
     "text": [
      "458\n",
      "0.7583\n"
     ]
    }
   ],
   "source": [
    "x_tr, y_tr = [], []\n",
    "for i in range(500):\n",
    "    if f1s[i] < 0.882:\n",
    "        x_tr.append(x_train[i])\n",
    "        y_tr.append(y_train[i])\n",
    "        \n",
    "\n",
    "print(len(y_tr))\n",
    "\n",
    "model.fit(x_tr, y_tr)\n",
    "y_pred = model.predict(x_test[:10000000])\n",
    "y_pred = np.concatenate((y_pred, model.predict(x_test[10000000:20000000])))\n",
    "y_pred = np.concatenate((y_pred, model.predict(x_test[20000000:30000000])))\n",
    "y_pred = np.concatenate((y_pred, model.predict(x_test[30000000:40000000])))\n",
    "y_pred = np.concatenate((y_pred, model.predict(x_test[40000000:])))\n",
    "f1 = f1_score(y_test, y_pred, average=None)\n",
    "f1 = round(float(f1[0]), 4)\n",
    "print(f1)\n"
   ]
  },
  {
   "cell_type": "code",
   "execution_count": 69,
   "metadata": {},
   "outputs": [
    {
     "name": "stdout",
     "output_type": "stream",
     "text": [
      "485\n",
      "0.8847\n"
     ]
    }
   ],
   "source": [
    "x_tr, y_tr = [], []\n",
    "for i in range(500):\n",
    "    if f1s[i] < 0.883:\n",
    "        x_tr.append(x_train[i])\n",
    "        y_tr.append(y_train[i])\n",
    "        \n",
    "\n",
    "print(len(y_tr))\n",
    "\n",
    "model.fit(x_tr, y_tr)\n",
    "y_pred = model.predict(x_test[:10000000])\n",
    "y_pred = np.concatenate((y_pred, model.predict(x_test[10000000:20000000])))\n",
    "y_pred = np.concatenate((y_pred, model.predict(x_test[20000000:30000000])))\n",
    "y_pred = np.concatenate((y_pred, model.predict(x_test[30000000:40000000])))\n",
    "y_pred = np.concatenate((y_pred, model.predict(x_test[40000000:])))\n",
    "f1 = f1_score(y_test, y_pred, average=None)\n",
    "f1 = round(float(f1[0]), 4)\n",
    "print(f1)"
   ]
  },
  {
   "cell_type": "code",
   "execution_count": 70,
   "metadata": {},
   "outputs": [],
   "source": [
    "f1s2 = []\n",
    "for i in range(500):\n",
    "    if f1s[i] > 0.86:\n",
    "        f1s2.append(f1s[i])"
   ]
  },
  {
   "cell_type": "code",
   "execution_count": 71,
   "metadata": {},
   "outputs": [
    {
     "data": {
      "text/plain": [
       "[<matplotlib.lines.Line2D at 0x7fbbe1de76a0>]"
      ]
     },
     "execution_count": 71,
     "metadata": {},
     "output_type": "execute_result"
    },
    {
     "data": {
      "image/png": "[encoded data removed]",
      "text/plain": [
       "<Figure size 432x288 with 1 Axes>"
      ]
     },
     "metadata": {
      "needs_background": "light"
     },
     "output_type": "display_data"
    }
   ],
   "source": [
    "plt.plot(range(len(f1s2)), f1s2)"
   ]
  },
  {
   "cell_type": "code",
   "execution_count": 73,
   "metadata": {},
   "outputs": [
    {
     "name": "stdout",
     "output_type": "stream",
     "text": [
      "483\n",
      "0.7396\n"
     ]
    }
   ],
   "source": [
    "x_tr, y_tr = [], []\n",
    "for i in range(500):\n",
    "    if f1s[i] > 0.883:\n",
    "        continue\n",
    "    if f1s[i] < 0.76:\n",
    "        continue\n",
    "    x_tr.append(x_train[i])\n",
    "    y_tr.append(y_train[i])\n",
    "print(len(y_tr))\n",
    "model.fit(x_tr, y_tr)\n",
    "y_pred = model.predict(x_test[:10000000])\n",
    "y_pred = np.concatenate((y_pred, model.predict(x_test[10000000:20000000])))\n",
    "y_pred = np.concatenate((y_pred, model.predict(x_test[20000000:30000000])))\n",
    "y_pred = np.concatenate((y_pred, model.predict(x_test[30000000:40000000])))\n",
    "y_pred = np.concatenate((y_pred, model.predict(x_test[40000000:])))\n",
    "f1 = f1_score(y_test, y_pred, average=None)\n",
    "f1 = round(float(f1[0]), 4)\n",
    "print(f1)"
   ]
  },
  {
   "cell_type": "code",
   "execution_count": 79,
   "metadata": {},
   "outputs": [
    {
     "name": "stdout",
     "output_type": "stream",
     "text": [
      "478\n",
      "0.8813\n"
     ]
    }
   ],
   "source": [
    "x_tr, y_tr = [], []\n",
    "for i in range(500):\n",
    "    if f1s[i] >= 0.883:\n",
    "        continue\n",
    "    if f1s[i] <= 0.76:\n",
    "        continue\n",
    "    x_tr.append(x_train[i])\n",
    "    y_tr.append(y_train[i])\n",
    "print(len(y_tr))\n",
    "model.fit(x_tr, y_tr)\n",
    "y_pred = model.predict(x_test[:10000000])\n",
    "y_pred = np.concatenate((y_pred, model.predict(x_test[10000000:20000000])))\n",
    "y_pred = np.concatenate((y_pred, model.predict(x_test[20000000:30000000])))\n",
    "y_pred = np.concatenate((y_pred, model.predict(x_test[30000000:40000000])))\n",
    "y_pred = np.concatenate((y_pred, model.predict(x_test[40000000:])))\n",
    "f1 = f1_score(y_test, y_pred, average=None)\n",
    "f1 = round(float(f1[0]), 4)\n",
    "print(f1)"
   ]
  },
  {
   "cell_type": "code",
   "execution_count": null,
   "metadata": {},
   "outputs": [],
   "source": []
  },
  {
   "cell_type": "code",
   "execution_count": null,
   "metadata": {},
   "outputs": [],
   "source": []
  },
  {
   "cell_type": "code",
   "execution_count": null,
   "metadata": {},
   "outputs": [],
   "source": []
  },
  {
   "cell_type": "code",
   "execution_count": null,
   "metadata": {},
   "outputs": [],
   "source": []
  },
  {
   "cell_type": "code",
   "execution_count": null,
   "metadata": {},
   "outputs": [],
   "source": []
  },
  {
   "cell_type": "code",
   "execution_count": 3,
   "metadata": {},
   "outputs": [],
   "source": [
    "y_pred = model.predict(x_test[:10000000])\n",
    "y_pred = np.concatenate((y_pred, model.predict(x_test[10000000:20000000])))\n",
    "y_pred = np.concatenate((y_pred, model.predict(x_test[20000000:30000000])))\n",
    "y_pred = np.concatenate((y_pred, model.predict(x_test[30000000:40000000])))\n",
    "y_pred = np.concatenate((y_pred, model.predict(x_test[40000000:])))\n",
    "\n",
    "\n",
    "y_pred_proba = model.predict_proba(x_test[:10000000])\n",
    "y_pred_proba = np.concatenate((y_pred_proba, model.predict_proba(x_test[10000000:20000000])))\n",
    "y_pred_proba = np.concatenate((y_pred_proba, model.predict_proba(x_test[20000000:30000000])))\n",
    "y_pred_proba = np.concatenate((y_pred_proba, model.predict_proba(x_test[30000000:40000000])))\n",
    "y_pred_proba = np.concatenate((y_pred_proba, model.predict_proba(x_test[40000000:])))\n",
    "y_pred_proba = y_pred_proba[:, 0]"
   ]
  },
  {
   "cell_type": "code",
   "execution_count": null,
   "metadata": {},
   "outputs": [],
   "source": []
  },
  {
   "cell_type": "code",
   "execution_count": 4,
   "metadata": {},
   "outputs": [],
   "source": [
    "y_tail = y_pred_proba[y_test != y_pred]"
   ]
  },
  {
   "cell_type": "code",
   "execution_count": 5,
   "metadata": {
    "scrolled": true
   },
   "outputs": [
    {
     "data": {
      "text/plain": [
       "<matplotlib.axes._subplots.AxesSubplot at 0x7f881b3236a0>"
      ]
     },
     "execution_count": 5,
     "metadata": {},
     "output_type": "execute_result"
    },
    {
     "data": {
      "image/png": "[encoded data removed]",
      "text/plain": [
       "<Figure size 432x288 with 1 Axes>"
      ]
     },
     "metadata": {
      "needs_background": "light"
     },
     "output_type": "display_data"
    }
   ],
   "source": [
    "sns.distplot(y_tail)"
   ]
  },
  {
   "cell_type": "code",
   "execution_count": 6,
   "metadata": {},
   "outputs": [],
   "source": [
    "import pandas as pd"
   ]
  },
  {
   "cell_type": "code",
   "execution_count": 7,
   "metadata": {},
   "outputs": [
    {
     "data": {
      "text/plain": [
       "count    2.329085e+06\n",
       "mean     5.169188e-01\n",
       "std      3.762168e-01\n",
       "min      2.548642e-09\n",
       "25%      1.080329e-01\n",
       "50%      5.577387e-01\n",
       "75%      9.022744e-01\n",
       "max      1.000000e+00\n",
       "dtype: float64"
      ]
     },
     "execution_count": 7,
     "metadata": {},
     "output_type": "execute_result"
    }
   ],
   "source": [
    "y_series = pd.Series(y_tail)\n",
    "y_series.describe()"
   ]
  },
  {
   "cell_type": "code",
   "execution_count": 8,
   "metadata": {},
   "outputs": [
    {
     "data": {
      "text/plain": [
       "count    4.071764e+07\n",
       "mean     2.153574e-01\n",
       "std      3.976988e-01\n",
       "min      2.220446e-16\n",
       "25%      5.455095e-10\n",
       "50%      6.876987e-07\n",
       "75%      5.256170e-02\n",
       "max      1.000000e+00\n",
       "dtype: float64"
      ]
     },
     "execution_count": 8,
     "metadata": {},
     "output_type": "execute_result"
    },
    {
     "data": {
      "image/png": "[encoded data removed]",
      "text/plain": [
       "<Figure size 432x288 with 1 Axes>"
      ]
     },
     "metadata": {
      "needs_background": "light"
     },
     "output_type": "display_data"
    }
   ],
   "source": [
    "y_main = y_pred_proba[y_test == y_pred]\n",
    "sns.distplot(y_main)\n",
    "y_main_series = pd.Series(y_main)\n",
    "y_main_series.describe()"
   ]
  },
  {
   "cell_type": "code",
   "execution_count": 9,
   "metadata": {},
   "outputs": [
    {
     "data": {
      "text/plain": [
       "count    1.254025e+06\n",
       "mean     8.337303e-01\n",
       "std      1.570273e-01\n",
       "min      5.000000e-01\n",
       "25%      7.053563e-01\n",
       "50%      8.830484e-01\n",
       "75%      9.796812e-01\n",
       "max      1.000000e+00\n",
       "dtype: float64"
      ]
     },
     "execution_count": 9,
     "metadata": {},
     "output_type": "execute_result"
    },
    {
     "data": {
      "image/png": "[encoded data removed]",
      "text/plain": [
       "<Figure size 432x288 with 1 Axes>"
      ]
     },
     "metadata": {
      "needs_background": "light"
     },
     "output_type": "display_data"
    }
   ],
   "source": [
    "y_main = y_pred_proba[(y_test == 1) & (y_test != y_pred)]\n",
    "sns.distplot(y_main)\n",
    "y_main_series = pd.Series(y_main)\n",
    "y_main_series.describe()"
   ]
  },
  {
   "cell_type": "code",
   "execution_count": 10,
   "metadata": {},
   "outputs": [
    {
     "data": {
      "text/plain": [
       "count    1.075060e+06\n",
       "mean     1.473677e-01\n",
       "std      1.556656e-01\n",
       "min      2.548642e-09\n",
       "25%      7.708519e-03\n",
       "50%      8.499033e-02\n",
       "75%      2.659712e-01\n",
       "max      4.999981e-01\n",
       "dtype: float64"
      ]
     },
     "execution_count": 10,
     "metadata": {},
     "output_type": "execute_result"
    },
    {
     "data": {
      "image/png": "[encoded data removed]",
      "text/plain": [
       "<Figure size 432x288 with 1 Axes>"
      ]
     },
     "metadata": {
      "needs_background": "light"
     },
     "output_type": "display_data"
    }
   ],
   "source": [
    "y_main = y_pred_proba[(y_test == 0) & (y_test != y_pred)]\n",
    "sns.distplot(y_main)\n",
    "y_main_series = pd.Series(y_main)\n",
    "y_main_series.describe()"
   ]
  },
  {
   "cell_type": "code",
   "execution_count": 11,
   "metadata": {},
   "outputs": [
    {
     "data": {
      "text/plain": [
       "count    1.075060e+06\n",
       "mean     2.929038e+01\n",
       "std      3.147532e+01\n",
       "min      0.000000e+00\n",
       "25%      0.000000e+00\n",
       "50%      2.000000e+01\n",
       "75%      5.000000e+01\n",
       "max      1.000000e+02\n",
       "dtype: float64"
      ]
     },
     "execution_count": 11,
     "metadata": {},
     "output_type": "execute_result"
    },
    {
     "data": {
      "image/png": "[encoded data removed]",
      "text/plain": [
       "<Figure size 432x288 with 1 Axes>"
      ]
     },
     "metadata": {
      "needs_background": "light"
     },
     "output_type": "display_data"
    }
   ],
   "source": [
    "y_main = np.round(y_pred_proba[(y_test == 0) & (y_test != y_pred)]*2, 1)*100\n",
    "sns.distplot(y_main)\n",
    "y_main_series = pd.Series(y_main)\n",
    "y_main_series.describe()"
   ]
  },
  {
   "cell_type": "code",
   "execution_count": 12,
   "metadata": {},
   "outputs": [],
   "source": [
    "y_tail2 = y_pred_proba[y_test == y_pred]"
   ]
  },
  {
   "cell_type": "code",
   "execution_count": 13,
   "metadata": {},
   "outputs": [
    {
     "data": {
      "text/plain": [
       "<matplotlib.axes._subplots.AxesSubplot at 0x7f8668e2afd0>"
      ]
     },
     "execution_count": 13,
     "metadata": {},
     "output_type": "execute_result"
    },
    {
     "data": {
      "image/png": "[encoded data removed]",
      "text/plain": [
       "<Figure size 432x288 with 1 Axes>"
      ]
     },
     "metadata": {
      "needs_background": "light"
     },
     "output_type": "display_data"
    }
   ],
   "source": [
    "sns.distplot(y_tail2)"
   ]
  },
  {
   "cell_type": "code",
   "execution_count": 14,
   "metadata": {},
   "outputs": [],
   "source": [
    "from sklearn.linear_model import LogisticRegression"
   ]
  },
  {
   "cell_type": "code",
   "execution_count": 15,
   "metadata": {},
   "outputs": [
    {
     "name": "stderr",
     "output_type": "stream",
     "text": [
      "/opt/anaconda3/lib/python3.8/site-packages/sklearn/neural_network/_multilayer_perceptron.py:582: ConvergenceWarning: Stochastic Optimizer: Maximum iterations (200) reached and the optimization hasn't converged yet.\n",
      "  warnings.warn(\n"
     ]
    },
    {
     "data": {
      "text/plain": [
       "MLPClassifier(random_state=42)"
      ]
     },
     "execution_count": 15,
     "metadata": {},
     "output_type": "execute_result"
    }
   ],
   "source": [
    "model_lg = MLPClassifier(random_state=42)\n",
    "model_lg.fit(x_train, y_train)"
   ]
  },
  {
   "cell_type": "code",
   "execution_count": 16,
   "metadata": {},
   "outputs": [],
   "source": [
    "y_pred_lg = model_lg.predict(x_test[:10000000])\n",
    "y_pred_lg = np.concatenate((y_pred_lg, model_lg.predict(x_test[10000000:20000000])))\n",
    "y_pred_lg = np.concatenate((y_pred_lg, model_lg.predict(x_test[20000000:30000000])))\n",
    "y_pred_lg = np.concatenate((y_pred_lg, model_lg.predict(x_test[30000000:40000000])))\n",
    "y_pred_lg = np.concatenate((y_pred_lg, model_lg.predict(x_test[40000000:])))\n",
    "\n",
    "\n",
    "y_pred_proba_lg = model_lg.predict_proba(x_test[:10000000])\n",
    "y_pred_proba_lg = np.concatenate((y_pred_proba_lg, model_lg.predict_proba(x_test[10000000:20000000])))\n",
    "y_pred_proba_lg = np.concatenate((y_pred_proba_lg, model_lg.predict_proba(x_test[20000000:30000000])))\n",
    "y_pred_proba_lg = np.concatenate((y_pred_proba_lg, model_lg.predict_proba(x_test[30000000:40000000])))\n",
    "y_pred_proba_lg = np.concatenate((y_pred_proba_lg, model_lg.predict_proba(x_test[40000000:])))\n",
    "y_pred_proba_lg = y_pred_proba_lg[:, 0]"
   ]
  },
  {
   "cell_type": "code",
   "execution_count": 17,
   "metadata": {},
   "outputs": [],
   "source": [
    "y_tail_lg = y_pred_proba_lg[y_test != y_pred_lg]"
   ]
  },
  {
   "cell_type": "code",
   "execution_count": 18,
   "metadata": {},
   "outputs": [
    {
     "data": {
      "text/plain": [
       "<matplotlib.axes._subplots.AxesSubplot at 0x7f8680af00d0>"
      ]
     },
     "execution_count": 18,
     "metadata": {},
     "output_type": "execute_result"
    },
    {
     "data": {
      "image/png": "[encoded data removed]",
      "text/plain": [
       "<Figure size 432x288 with 1 Axes>"
      ]
     },
     "metadata": {
      "needs_background": "light"
     },
     "output_type": "display_data"
    }
   ],
   "source": [
    "sns.distplot(y_tail_lg)"
   ]
  },
  {
   "cell_type": "code",
   "execution_count": 19,
   "metadata": {},
   "outputs": [
    {
     "data": {
      "text/plain": [
       "count    1.351206e+06\n",
       "mean     7.839089e+01\n",
       "std      1.772752e+01\n",
       "min      1.000000e+01\n",
       "25%      7.000000e+01\n",
       "50%      8.000000e+01\n",
       "75%      9.000000e+01\n",
       "max      1.000000e+02\n",
       "dtype: float64"
      ]
     },
     "execution_count": 19,
     "metadata": {},
     "output_type": "execute_result"
    },
    {
     "data": {
      "image/png": "[encoded data removed]",
      "text/plain": [
       "<Figure size 432x288 with 1 Axes>"
      ]
     },
     "metadata": {
      "needs_background": "light"
     },
     "output_type": "display_data"
    }
   ],
   "source": [
    "y_main_lg = np.round(y_pred_proba_lg[(y_test == 0) & (y_test != y_pred_lg)]*2, 1)*100\n",
    "sns.distplot(y_main_lg)\n",
    "y_main_series_lg = pd.Series(y_main_lg)\n",
    "y_main_series_lg.describe()"
   ]
  },
  {
   "cell_type": "code",
   "execution_count": 20,
   "metadata": {},
   "outputs": [],
   "source": [
    "from sklearn.metrics import accuracy_score, confusion_matrix, classification_report, roc_auc_score, average_precision_score, f1_score"
   ]
  },
  {
   "cell_type": "code",
   "execution_count": 21,
   "metadata": {},
   "outputs": [
    {
     "data": {
      "text/plain": [
       "0.8816"
      ]
     },
     "execution_count": 21,
     "metadata": {},
     "output_type": "execute_result"
    }
   ],
   "source": [
    "f1 = f1_score(y_test, y_pred, average=None)\n",
    "round(float(f1[0]), 4)"
   ]
  },
  {
   "cell_type": "code",
   "execution_count": 22,
   "metadata": {},
   "outputs": [
    {
     "data": {
      "text/plain": [
       "<matplotlib.axes._subplots.AxesSubplot at 0x7f8680c3f340>"
      ]
     },
     "execution_count": 22,
     "metadata": {},
     "output_type": "execute_result"
    },
    {
     "data": {
      "image/png": "[encoded data removed]",
      "text/plain": [
       "<Figure size 432x288 with 1 Axes>"
      ]
     },
     "metadata": {
      "needs_background": "light"
     },
     "output_type": "display_data"
    }
   ],
   "source": [
    "sns.distplot(y_pred_proba_lg[y_pred_proba_lg < 0.2])\n",
    "sns.distplot(y_pred_proba_lg[y_pred_proba_lg > 0.8])"
   ]
  },
  {
   "cell_type": "code",
   "execution_count": 23,
   "metadata": {},
   "outputs": [
    {
     "data": {
      "text/plain": [
       "0.8009"
      ]
     },
     "execution_count": 23,
     "metadata": {},
     "output_type": "execute_result"
    }
   ],
   "source": [
    "f1_lg = f1_score(y_test, y_pred_lg, average=None)\n",
    "round(float(f1_lg[0]), 4)"
   ]
  },
  {
   "cell_type": "code",
   "execution_count": 24,
   "metadata": {},
   "outputs": [],
   "source": [
    "x_train_lg = np.concatenate((x_train, x_test[y_pred_proba_lg < 0.2], x_test[y_pred_proba_lg > 0.8]))\n",
    "y_train_lg = np.concatenate((y_train, y_pred_lg[y_pred_proba_lg < 0.2], y_pred_lg[y_pred_proba_lg > 0.8]))"
   ]
  },
  {
   "cell_type": "code",
   "execution_count": 25,
   "metadata": {},
   "outputs": [
    {
     "name": "stdout",
     "output_type": "stream",
     "text": [
      "\n",
      " ---------- MLPClassifier ----------\n",
      "(43046721, 8) (43046721,)\n",
      "y_test {1: 33300144, 0: 9746577} y_train {1: 20888201, 0: 3718345}\n"
     ]
    },
    {
     "data": {
      "text/plain": [
       "MLPClassifier(activation='tanh', hidden_layer_sizes=(70, 70, 70),\n",
       "              max_iter=100000, random_state=42)"
      ]
     },
     "execution_count": 25,
     "metadata": {},
     "output_type": "execute_result"
    }
   ],
   "source": [
    "model_mlp = MLPClassifier(activation='tanh', solver='adam', hidden_layer_sizes=(70, 70, 70), max_iter=100000, random_state=42)\n",
    "print('\\n', '-'*10, model_mlp.__class__.__name__, '-'*10)\n",
    "print(x_test.shape, y_test.shape)\n",
    "print('y_test', dict(collections.Counter(y_test)), 'y_train', dict(collections.Counter(y_train_lg)))\n",
    "# fit model on training data\n",
    "model_mlp.fit(x_train_lg, y_train_lg)"
   ]
  },
  {
   "cell_type": "code",
   "execution_count": 26,
   "metadata": {},
   "outputs": [],
   "source": [
    "y_pred_mlp = model_mlp.predict(x_test[:10000000])\n",
    "y_pred_mlp = np.concatenate((y_pred_mlp, model_mlp.predict(x_test[10000000:20000000])))\n",
    "y_pred_mlp = np.concatenate((y_pred_mlp, model_mlp.predict(x_test[20000000:30000000])))\n",
    "y_pred_mlp = np.concatenate((y_pred_mlp, model_mlp.predict(x_test[30000000:40000000])))\n",
    "y_pred_mlp = np.concatenate((y_pred_mlp, model_mlp.predict(x_test[40000000:])))\n",
    "\n",
    "\n",
    "y_pred_proba_mlp = model_mlp.predict_proba(x_test[:10000000])\n",
    "y_pred_proba_mlp = np.concatenate((y_pred_proba_mlp, model_mlp.predict_proba(x_test[10000000:20000000])))\n",
    "y_pred_proba_mlp = np.concatenate((y_pred_proba_mlp, model_mlp.predict_proba(x_test[20000000:30000000])))\n",
    "y_pred_proba_mlp = np.concatenate((y_pred_proba_mlp, model_mlp.predict_proba(x_test[30000000:40000000])))\n",
    "y_pred_proba_mlp = np.concatenate((y_pred_proba_mlp, model_mlp.predict_proba(x_test[40000000:])))\n",
    "y_pred_proba_mlp = y_pred_proba_mlp[:, 0]"
   ]
  },
  {
   "cell_type": "code",
   "execution_count": 27,
   "metadata": {},
   "outputs": [
    {
     "data": {
      "text/plain": [
       "0.7755"
      ]
     },
     "execution_count": 27,
     "metadata": {},
     "output_type": "execute_result"
    }
   ],
   "source": [
    "f1_mlp = f1_score(y_test, y_pred_mlp, average=None)\n",
    "round(float(f1_mlp[0]), 4)"
   ]
  },
  {
   "cell_type": "code",
   "execution_count": 28,
   "metadata": {},
   "outputs": [],
   "source": [
    "x_train_lg_2 = np.concatenate((x_train, x_test[y_pred_proba_lg < 0.1], x_test[y_pred_proba_lg > 0.9]))\n",
    "y_train_lg_2 = np.concatenate((y_train, y_pred_lg[y_pred_proba_lg < 0.1], y_pred_lg[y_pred_proba_lg > 0.9]))"
   ]
  },
  {
   "cell_type": "code",
   "execution_count": 29,
   "metadata": {},
   "outputs": [
    {
     "name": "stdout",
     "output_type": "stream",
     "text": [
      "\n",
      " ---------- MLPClassifier ----------\n",
      "(43046721, 8) (43046721,)\n",
      "y_test {1: 33300144, 0: 9746577} y_train {1: 14419045, 0: 1457116}\n"
     ]
    },
    {
     "data": {
      "text/plain": [
       "MLPClassifier(activation='tanh', hidden_layer_sizes=(70, 70, 70),\n",
       "              max_iter=100000, random_state=42)"
      ]
     },
     "execution_count": 29,
     "metadata": {},
     "output_type": "execute_result"
    }
   ],
   "source": [
    "model_mlp_2 = MLPClassifier(activation='tanh', solver='adam', hidden_layer_sizes=(70, 70, 70), max_iter=100000, random_state=42)\n",
    "print('\\n', '-'*10, model_mlp.__class__.__name__, '-'*10)\n",
    "print(x_test.shape, y_test.shape)\n",
    "print('y_test', dict(collections.Counter(y_test)), 'y_train', dict(collections.Counter(y_train_lg_2)))\n",
    "# fit model on training data\n",
    "model_mlp_2.fit(x_train_lg_2, y_train_lg_2)"
   ]
  },
  {
   "cell_type": "code",
   "execution_count": 30,
   "metadata": {},
   "outputs": [],
   "source": [
    "y_pred_mlp_2 = model_mlp_2.predict(x_test[:10000000])\n",
    "y_pred_mlp_2 = np.concatenate((y_pred_mlp_2, model_mlp_2.predict(x_test[10000000:20000000])))\n",
    "y_pred_mlp_2 = np.concatenate((y_pred_mlp_2, model_mlp_2.predict(x_test[20000000:30000000])))\n",
    "y_pred_mlp_2 = np.concatenate((y_pred_mlp_2, model_mlp_2.predict(x_test[30000000:40000000])))\n",
    "y_pred_mlp_2 = np.concatenate((y_pred_mlp_2, model_mlp_2.predict(x_test[40000000:])))\n",
    "\n",
    "\n",
    "y_pred_proba_mlp_2 = model_mlp_2.predict_proba(x_test[:10000000])\n",
    "y_pred_proba_mlp_2 = np.concatenate((y_pred_proba_mlp_2, model_mlp_2.predict_proba(x_test[10000000:20000000])))\n",
    "y_pred_proba_mlp_2 = np.concatenate((y_pred_proba_mlp_2, model_mlp_2.predict_proba(x_test[20000000:30000000])))\n",
    "y_pred_proba_mlp_2 = np.concatenate((y_pred_proba_mlp_2, model_mlp_2.predict_proba(x_test[30000000:40000000])))\n",
    "y_pred_proba_mlp_2 = np.concatenate((y_pred_proba_mlp_2, model_mlp_2.predict_proba(x_test[40000000:])))\n",
    "y_pred_proba_mlp_2 = y_pred_proba_mlp_2[:, 0]"
   ]
  },
  {
   "cell_type": "code",
   "execution_count": 31,
   "metadata": {},
   "outputs": [
    {
     "data": {
      "text/plain": [
       "0.779"
      ]
     },
     "execution_count": 31,
     "metadata": {},
     "output_type": "execute_result"
    }
   ],
   "source": [
    "f1_mlp_2 = f1_score(y_test, y_pred_mlp_2, average=None)\n",
    "round(float(f1_mlp_2[0]), 4)"
   ]
  },
  {
   "cell_type": "code",
   "execution_count": 32,
   "metadata": {},
   "outputs": [],
   "source": [
    "x_train_lg_3 = np.concatenate((x_train, x_test[y_pred_proba_lg > 0.95]))\n",
    "y_train_lg_3 = np.concatenate((y_train, y_pred_lg[y_pred_proba_lg > 0.95]))"
   ]
  },
  {
   "cell_type": "code",
   "execution_count": 33,
   "metadata": {},
   "outputs": [
    {
     "name": "stdout",
     "output_type": "stream",
     "text": [
      "\n",
      " ---------- MLPClassifier ----------\n",
      "(43046721, 8) (43046721,)\n",
      "y_test {1: 33300144, 0: 9746577} y_train {1: 215, 0: 432856}\n"
     ]
    },
    {
     "data": {
      "text/plain": [
       "MLPClassifier(activation='tanh', hidden_layer_sizes=(70, 70, 70),\n",
       "              max_iter=100000, random_state=42)"
      ]
     },
     "execution_count": 33,
     "metadata": {},
     "output_type": "execute_result"
    }
   ],
   "source": [
    "model_mlp_3 = MLPClassifier(activation='tanh', solver='adam', hidden_layer_sizes=(70, 70, 70), max_iter=100000, random_state=42)\n",
    "print('\\n', '-'*10, model_mlp.__class__.__name__, '-'*10)\n",
    "print(x_test.shape, y_test.shape)\n",
    "print('y_test', dict(collections.Counter(y_test)), 'y_train', dict(collections.Counter(y_train_lg_3)))\n",
    "# fit model on training data\n",
    "model_mlp_3.fit(x_train_lg_3, y_train_lg_3)"
   ]
  },
  {
   "cell_type": "code",
   "execution_count": 34,
   "metadata": {},
   "outputs": [],
   "source": [
    "y_pred_mlp_3 = model_mlp_3.predict(x_test[:10000000])\n",
    "y_pred_mlp_3 = np.concatenate((y_pred_mlp_3, model_mlp_3.predict(x_test[10000000:20000000])))\n",
    "y_pred_mlp_3 = np.concatenate((y_pred_mlp_3, model_mlp_3.predict(x_test[20000000:30000000])))\n",
    "y_pred_mlp_3 = np.concatenate((y_pred_mlp_3, model_mlp_3.predict(x_test[30000000:40000000])))\n",
    "y_pred_mlp_3 = np.concatenate((y_pred_mlp_3, model_mlp_3.predict(x_test[40000000:])))\n",
    "\n",
    "\n",
    "y_pred_proba_mlp_3 = model_mlp_3.predict_proba(x_test[:10000000])\n",
    "y_pred_proba_mlp_3 = np.concatenate((y_pred_proba_mlp_3, model_mlp_3.predict_proba(x_test[10000000:20000000])))\n",
    "y_pred_proba_mlp_3 = np.concatenate((y_pred_proba_mlp_3, model_mlp_3.predict_proba(x_test[20000000:30000000])))\n",
    "y_pred_proba_mlp_3 = np.concatenate((y_pred_proba_mlp_3, model_mlp_3.predict_proba(x_test[30000000:40000000])))\n",
    "y_pred_proba_mlp_3 = np.concatenate((y_pred_proba_mlp_3, model_mlp_3.predict_proba(x_test[40000000:])))\n",
    "y_pred_proba_mlp_3 = y_pred_proba_mlp_3[:, 0]"
   ]
  },
  {
   "cell_type": "code",
   "execution_count": 35,
   "metadata": {},
   "outputs": [
    {
     "data": {
      "text/plain": [
       "0.7155"
      ]
     },
     "execution_count": 35,
     "metadata": {},
     "output_type": "execute_result"
    }
   ],
   "source": [
    "f1_mlp_3 = f1_score(y_test, y_pred_mlp_3, average=None)\n",
    "round(float(f1_mlp_3[0]), 4)"
   ]
  },
  {
   "cell_type": "code",
   "execution_count": 36,
   "metadata": {},
   "outputs": [],
   "source": [
    "y_pred_proba_lg1 = model_lg.predict_proba(x_test[:10000000])\n",
    "y_pred_proba_lg1 = np.concatenate((y_pred_proba_lg1, model_lg.predict_proba(x_test[10000000:20000000])))\n",
    "y_pred_proba_lg1 = np.concatenate((y_pred_proba_lg1, model_lg.predict_proba(x_test[20000000:30000000])))\n",
    "y_pred_proba_lg1 = np.concatenate((y_pred_proba_lg1, model_lg.predict_proba(x_test[30000000:40000000])))\n",
    "y_pred_proba_lg1 = np.concatenate((y_pred_proba_lg1, model_lg.predict_proba(x_test[40000000:])))\n",
    "y_pred_proba_lg1 = y_pred_proba_lg1[:, 1]"
   ]
  },
  {
   "cell_type": "code",
   "execution_count": 37,
   "metadata": {},
   "outputs": [],
   "source": [
    "x_train_lg_4 = np.concatenate((x_train, x_test[y_pred_proba_lg1 < 0.05]))\n",
    "y_train_lg_4 = np.concatenate((y_train, y_pred_lg[y_pred_proba_lg1 < 0.05]))"
   ]
  },
  {
   "cell_type": "code",
   "execution_count": 38,
   "metadata": {},
   "outputs": [
    {
     "name": "stdout",
     "output_type": "stream",
     "text": [
      "\n",
      " ---------- MLPClassifier ----------\n",
      "(43046721, 8) (43046721,)\n",
      "y_test {1: 33300144, 0: 9746577} y_train {1: 215, 0: 432856}\n"
     ]
    },
    {
     "data": {
      "text/plain": [
       "MLPClassifier(activation='tanh', hidden_layer_sizes=(70, 70, 70),\n",
       "              max_iter=100000, random_state=42)"
      ]
     },
     "execution_count": 38,
     "metadata": {},
     "output_type": "execute_result"
    }
   ],
   "source": [
    "model_mlp_4 = MLPClassifier(activation='tanh', solver='adam', hidden_layer_sizes=(70, 70, 70), max_iter=100000, random_state=42)\n",
    "print('\\n', '-'*10, model_mlp.__class__.__name__, '-'*10)\n",
    "print(x_test.shape, y_test.shape)\n",
    "print('y_test', dict(collections.Counter(y_test)), 'y_train', dict(collections.Counter(y_train_lg_4)))\n",
    "# fit model on training data\n",
    "model_mlp_4.fit(x_train_lg_4, y_train_lg_4)"
   ]
  },
  {
   "cell_type": "code",
   "execution_count": 39,
   "metadata": {},
   "outputs": [],
   "source": [
    "y_pred_mlp_4 = model_mlp_4.predict(x_test[:10000000])\n",
    "y_pred_mlp_4 = np.concatenate((y_pred_mlp_4, model_mlp_4.predict(x_test[10000000:20000000])))\n",
    "y_pred_mlp_4 = np.concatenate((y_pred_mlp_4, model_mlp_4.predict(x_test[20000000:30000000])))\n",
    "y_pred_mlp_4 = np.concatenate((y_pred_mlp_4, model_mlp_4.predict(x_test[30000000:40000000])))\n",
    "y_pred_mlp_4 = np.concatenate((y_pred_mlp_4, model_mlp_4.predict(x_test[40000000:])))"
   ]
  },
  {
   "cell_type": "code",
   "execution_count": 40,
   "metadata": {},
   "outputs": [
    {
     "data": {
      "text/plain": [
       "0.7155"
      ]
     },
     "execution_count": 40,
     "metadata": {},
     "output_type": "execute_result"
    }
   ],
   "source": [
    "f1_mlp_4 = f1_score(y_test, y_pred_mlp_4, average=None)\n",
    "round(float(f1_mlp_4[0]), 4)"
   ]
  },
  {
   "cell_type": "code",
   "execution_count": null,
   "metadata": {},
   "outputs": [],
   "source": []
  }
 ],
 "metadata": {
  "kernelspec": {
   "display_name": "Python 3",
   "language": "python",
   "name": "python3"
  },
  "language_info": {
   "codemirror_mode": {
    "name": "ipython",
    "version": 3
   },
   "file_extension": ".py",
   "mimetype": "text/x-python",
   "name": "python",
   "nbconvert_exporter": "python",
   "pygments_lexer": "ipython3",
   "version": "3.8.3"
  }
 },
 "nbformat": 4,
 "nbformat_minor": 4
}
