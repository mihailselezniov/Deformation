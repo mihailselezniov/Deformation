{
 "cells": [
  {
   "cell_type": "code",
   "execution_count": 1,
   "metadata": {},
   "outputs": [],
   "source": [
    "import numpy as np\n",
    "from sklearn.metrics import accuracy_score, confusion_matrix, classification_report, roc_auc_score, average_precision_score\n",
    "from xgboost import XGBClassifier\n",
    "from sklearn.linear_model import LogisticRegression\n",
    "from sklearn.svm import LinearSVC\n",
    "from sklearn.neighbors import KNeighborsClassifier\n",
    "from sklearn.externals import joblib\n",
    "import collections\n",
    "import math\n",
    "import sys\n",
    "import time"
   ]
  },
  {
   "cell_type": "code",
   "execution_count": 2,
   "metadata": {},
   "outputs": [
    {
     "name": "stdout",
     "output_type": "stream",
     "text": [
      "threads 14\n",
      "(7290000, 8) (7290000,)\n",
      "all {1: 6661743, 0: 628257}\n"
     ]
    }
   ],
   "source": [
    "ml_type = 1\n",
    "\n",
    "threads_f = 'threads/threads_{}'.format(ml_type)\n",
    "threads_f_name = '{}.j'.format(threads_f)\n",
    "threads72_f_name = '{}_72.j'.format(threads_f)\n",
    "threads729_f_name = '{}_729.j'.format(threads_f)\n",
    "threads = joblib.load(threads_f_name)\n",
    "len_threads = len(threads[0]) + len(threads[1])\n",
    "print('threads', len_threads)\n",
    "\n",
    "way_dict = joblib.load('border_vars/way_dict.j')\n",
    "X = joblib.load('border_vars/X.j')\n",
    "Y = joblib.load('border_vars/Y.j')\n",
    "\n",
    "print(X.shape, Y.shape)\n",
    "print('all', dict(collections.Counter(Y)))\n",
    "\n",
    "x_train, y_train = [], []\n",
    "model = ''\n",
    "def gen_train():\n",
    "    global x_train\n",
    "    global y_train\n",
    "    x_train, y_train = [], []\n",
    "    for i in threads:\n",
    "        for thread in threads[i]:\n",
    "            x_train.append(thread)\n",
    "            y_train.append(i)\n",
    "    x_train, y_train = np.array(x_train), np.array(y_train)"
   ]
  },
  {
   "cell_type": "code",
   "execution_count": 5,
   "metadata": {},
   "outputs": [
    {
     "name": "stdout",
     "output_type": "stream",
     "text": [
      "# 14\n",
      "Accuracy: 0.6762426611796982\n",
      "{1: 4383720, 0: 2906280}\n",
      "CPU times: user 8.22 s, sys: 1.98 s, total: 10.2 s\n",
      "Wall time: 10.7 s\n"
     ]
    }
   ],
   "source": [
    "%%time\n",
    "print('#', len_threads)\n",
    "gen_train()\n",
    "\n",
    "if ml_type == 1:\n",
    "    model = XGBClassifier()\n",
    "elif ml_type == 2:\n",
    "    model = LogisticRegression()\n",
    "elif ml_type == 3:\n",
    "    model = LinearSVC(random_state=0, tol=1e-5)\n",
    "elif ml_type == 4:\n",
    "    model = KNeighborsClassifier(n_neighbors=6)\n",
    "\n",
    "model.fit(x_train, y_train)\n",
    "y_pred = model.predict(X)\n",
    "accuracy = accuracy_score(Y, y_pred)\n",
    "print('Accuracy: {}'.format(accuracy))\n",
    "#print(y_pred)\n",
    "print(dict(collections.Counter(y_pred)))"
   ]
  },
  {
   "cell_type": "code",
   "execution_count": 6,
   "metadata": {},
   "outputs": [
    {
     "name": "stdout",
     "output_type": "stream",
     "text": [
      "[14.2828568570857, 5102990]\n",
      "1\n",
      "CPU times: user 1min 10s, sys: 2.2 s, total: 1min 12s\n",
      "Wall time: 1min 13s\n"
     ]
    }
   ],
   "source": [
    "%%time\n",
    "find = 1 if len(threads[0]) > len(threads[1]) else 0\n",
    "\n",
    "def distance(l0):\n",
    "    return min([math.sqrt(sum(map(lambda x: (x[0] - x[1])**2, zip(thread, l0)))) for thread in threads[find]])\n",
    "\n",
    "t_id = 0\n",
    "max_distance = 0\n",
    "max_dis_thread = 0\n",
    "for i in range(len(y_pred)):\n",
    "    if y_pred[i] == 0:\n",
    "        for j in way_dict[i]:\n",
    "            if y_pred[j] == 1:\n",
    "                t_id = j if find else i\n",
    "                dis = distance(list(X[t_id]))\n",
    "                if dis > max_distance:\n",
    "                    max_distance = dis\n",
    "                    max_dis_thread = t_id\n",
    "\n",
    "print([max_distance, max_dis_thread])\n",
    "print(Y[max_dis_thread])"
   ]
  },
  {
   "cell_type": "code",
   "execution_count": 16,
   "metadata": {},
   "outputs": [
    {
     "name": "stdout",
     "output_type": "stream",
     "text": [
      "[14.2828568570857, 5102990]\n",
      "1\n",
      "CPU times: user 1min 4s, sys: 324 ms, total: 1min 4s\n",
      "Wall time: 1min 5s\n"
     ]
    }
   ],
   "source": [
    "%%time\n",
    "find = 1 if len(threads[0]) > len(threads[1]) else 0\n",
    "\n",
    "def distance(l0):\n",
    "    #return min([math.sqrt(sum(map(lambda x: (x[0] - x[1])**2, zip(thread, l0)))) for thread in threads[find]])\n",
    "    _min = 99999\n",
    "    for thread in threads[find]:\n",
    "        _sum = 0\n",
    "        for i in range(len(l0)):\n",
    "            _sum += (thread[i] - l0[i])**2\n",
    "        dis = math.sqrt(_sum)\n",
    "        if dis < _min:\n",
    "            _min = dis\n",
    "    return _min\n",
    "            \n",
    "\n",
    "def if_distance(tid):\n",
    "    global max_distance\n",
    "    global max_dis_thread\n",
    "    dis = distance(list(X[tid]))\n",
    "    if dis > max_distance:\n",
    "        max_distance = dis\n",
    "        max_dis_thread = tid\n",
    "\n",
    "t_id = 0\n",
    "max_distance = 0\n",
    "max_dis_thread = 0\n",
    "#[if_distance(j if find else i) for i in range(len(y_pred)) if y_pred[i] == 0 for j in way_dict[i] if y_pred[j] == 1]\n",
    "\n",
    "for i in range(len(y_pred)):\n",
    "    if y_pred[i] == 0:\n",
    "        for j in way_dict[i]:\n",
    "            if y_pred[j] == 1:\n",
    "                if_distance(j if find else i)\n",
    "                \n",
    "print([max_distance, max_dis_thread])\n",
    "print(Y[max_dis_thread])"
   ]
  },
  {
   "cell_type": "code",
   "execution_count": 18,
   "metadata": {},
   "outputs": [
    {
     "name": "stdout",
     "output_type": "stream",
     "text": [
      "[1, 2, 3, 4] True\n"
     ]
    }
   ],
   "source": [
    "import multiprocessing\n",
    "\n",
    "\n",
    "\n",
    "if __name__ == \"__main__\": \n",
    "    q_x = multiprocessing.Queue()\n",
    "    q_min = multiprocessing.Queue()\n",
    "    x_min_id = multiprocessing.Value('i')\n",
    "    x_min_dis = multiprocessing.Value('d')\n",
    "    q_x.put([1,2,3,4])\n",
    "    print(q_x.get(), q_x.empty())\n",
    "    \n",
    "    "
   ]
  },
  {
   "cell_type": "code",
   "execution_count": null,
   "metadata": {},
   "outputs": [],
   "source": []
  }
 ],
 "metadata": {
  "kernelspec": {
   "display_name": "Python 3",
   "language": "python",
   "name": "python3"
  },
  "language_info": {
   "codemirror_mode": {
    "name": "ipython",
    "version": 3
   },
   "file_extension": ".py",
   "mimetype": "text/x-python",
   "name": "python",
   "nbconvert_exporter": "python",
   "pygments_lexer": "ipython3",
   "version": "3.7.1"
  }
 },
 "nbformat": 4,
 "nbformat_minor": 2
}
