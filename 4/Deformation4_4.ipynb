{
 "cells": [
  {
   "cell_type": "code",
   "execution_count": 96,
   "metadata": {},
   "outputs": [],
   "source": [
    "import matplotlib\n",
    "import matplotlib.pyplot as plt\n",
    "import numpy as np\n",
    "import imageio\n",
    "from copy import deepcopy\n",
    "\n",
    "# Дано:\n",
    "L = 0.1 # длина нити\n",
    "N = 101 # количество узлов\n",
    "l = L/(N-1) # длина каждого сегмента\n",
    "F = 100 # сила действующая на центральный узел\n",
    "E = 10 # модуль Юнга\n",
    "rho = 10 # линейная плотность нити\n",
    "m = rho * l # масса каждого узла\n",
    "dt = 0.001 # шаг по времени\n",
    "t = 1*80 # количество шагов времени\n",
    "points = []\n",
    "def make_new_points():\n",
    "    global points\n",
    "    points = [{'x':i*l, 'y':10., 'vx':0., 'vy':0.} for i in range(0, N)]\n",
    "make_new_points()\n",
    "centre_point = N/2\n",
    "const_speed = 1\n",
    "\n",
    "\n",
    "def get_distance(p1, p2):\n",
    "    p0 = {'x': p1['x'] - p2['x'], 'y': p1['y'] - p2['y']}\n",
    "    return ((p0['x'])**2 + (p0['y'])**2)**0.5, p0\n",
    "\n",
    "def get_f_vec(F, l, p0):\n",
    "    k = float(F) / l\n",
    "    return {'x': k*p0['x'], 'y': k*p0['y']}\n",
    "\n",
    "def sum_vec(*vecs):\n",
    "    rez = {'x': 0, 'y': 0}\n",
    "    for vec in vecs:\n",
    "        rez['x'] += vec['x']\n",
    "        rez['y'] += vec['y']\n",
    "    return rez\n",
    "\n",
    "def get_a(F_vec, m):\n",
    "    return {'x': F_vec['x'] / m, 'y': F_vec['y'] / m}\n",
    "\n",
    "def change_v(index_of_point, a_vec):\n",
    "    p = points[index_of_point]\n",
    "    p['vx'] += a_vec['x'] * dt\n",
    "    p['vy'] += a_vec['y'] * dt\n",
    "\n",
    "def move_points():\n",
    "    for i in range(N):\n",
    "        p = points[i]\n",
    "        if i == centre_point:\n",
    "            p['y'] -= const_speed * dt\n",
    "        else:\n",
    "            p['x'] += p['vx'] * dt\n",
    "            p['y'] += p['vy'] * dt"
   ]
  },
  {
   "cell_type": "code",
   "execution_count": 97,
   "metadata": {},
   "outputs": [
    {
     "name": "stdout",
     "output_type": "stream",
     "text": [
      "[0.1, 0.2, 0.3, 0.4, 0.5, 0.6, 0.7, 0.8, 0.9]\n"
     ]
    },
    {
     "data": {
      "image/png": "[encoded data removed]",
      "text/plain": [
       "<Figure size 432x288 with 1 Axes>"
      ]
     },
     "metadata": {},
     "output_type": "display_data"
    },
    {
     "name": "stdout",
     "output_type": "stream",
     "text": [
      "[1.0, 2.0, 3.0, 4.0, 5.0, 6.0, 7.0, 8.0, 9.0]\n"
     ]
    },
    {
     "data": {
      "image/png": "[encoded data removed]",
      "text/plain": [
       "<Figure size 432x288 with 1 Axes>"
      ]
     },
     "metadata": {},
     "output_type": "display_data"
    }
   ],
   "source": [
    "def get_data_for_plotting(step_of_time):\n",
    "    for pi in range(0, N): # pi - index of point\n",
    "        F_vec = {'x': 0, 'y': 0}\n",
    "        Fr_vec, Fl_vec = deepcopy(F_vec), deepcopy(F_vec)\n",
    "        if pi != N-1:\n",
    "            lr, pr0 = get_distance(points[pi+1], points[pi]) # расстояния до правого соседа\n",
    "            er = (lr - l) / l # относительная деформация связи с правым соседом\n",
    "            Fr = er * E # сила натяжения нити к правому соседу\n",
    "            Fr_vec = get_f_vec(Fr, lr, pr0)\n",
    "        if pi != 0:\n",
    "            ll, pl0 = get_distance(points[pi-1], points[pi]) # расстояния до левого соседа\n",
    "            el = (ll - l) / l # относительная деформация связи с левым соседом\n",
    "            Fl = el * E # сила натяжения нити к левому соседу\n",
    "            Fl_vec = get_f_vec(Fl, ll, pl0)\n",
    "        if pi == centre_point:\n",
    "            F_vec = get_f_vec(F, 1, {'x': 0, 'y': -1})\n",
    "        F_point = sum_vec(Fr_vec, Fl_vec, F_vec)\n",
    "        if pi == centre_point:\n",
    "            F_point = F_vec\n",
    "        a_vec = get_a(F_point, m)\n",
    "        change_v(pi, a_vec)\n",
    "    move_points()\n",
    "    \n",
    "    # ---\n",
    "    if points[0]['y'] > 9.99999:\n",
    "        return True\n",
    "    else:\n",
    "        return False\n",
    "    # ---\n",
    "    \n",
    "    print points[0]['x'], time2move\n",
    "    return np.array([p['x'] for p in points]), np.array([p['y'] for p in points])\n",
    "\n",
    "\n",
    "def plot_for_some_time(step_of_time):\n",
    "    x, y = get_data_for_plotting(step_of_time)\n",
    "\n",
    "    fig, ax = plt.subplots(figsize=(10,5))\n",
    "    ax.plot(x, y)\n",
    "    #ax.grid()\n",
    "    ax.set(xlabel='X', ylabel='step of time = {}'.format(step_of_time), title='Some line')\n",
    "    ax.set_ylim(9, 10.5)\n",
    "\n",
    "    fig.canvas.draw()\n",
    "    image = np.frombuffer(fig.canvas.tostring_rgb(), dtype='uint8')\n",
    "    image  = image.reshape(fig.canvas.get_width_height()[::-1] + (3,))\n",
    "    return image\n",
    "\n",
    "#imageio.mimsave('./line7.gif', [plot_for_some_time(i) for i in range(t)], fps=20)\n",
    "\n",
    "def get_time2move(speed=1, var_E=10):\n",
    "    make_new_points()\n",
    "    #print speed, var_E\n",
    "    global E\n",
    "    E = var_E\n",
    "    global const_speed\n",
    "    const_speed = speed\n",
    "    t = 0\n",
    "    time2move = 0 # время движения последней точки\n",
    "    while get_data_for_plotting(t):\n",
    "        time2move += dt\n",
    "        t += 1\n",
    "    return time2move\n",
    "\n",
    "speeds = [i/10. for i in range(1, 10)]\n",
    "print speeds\n",
    "time_vs_speed = [get_time2move(speed=i) for i in speeds]\n",
    "plt.plot(time_vs_speed)\n",
    "plt.show()\n",
    "\n",
    "Es = [i/1. for i in range(1, 10)]\n",
    "print Es\n",
    "time_vs_E = [get_time2move(var_E=i) for i in Es]\n",
    "plt.plot(time_vs_E)\n",
    "plt.show()\n"
   ]
  },
  {
   "cell_type": "code",
   "execution_count": null,
   "metadata": {},
   "outputs": [],
   "source": []
  }
 ],
 "metadata": {
  "kernelspec": {
   "display_name": "Python 2",
   "language": "python",
   "name": "python2"
  },
  "language_info": {
   "codemirror_mode": {
    "name": "ipython",
    "version": 2
   },
   "file_extension": ".py",
   "mimetype": "text/x-python",
   "name": "python",
   "nbconvert_exporter": "python",
   "pygments_lexer": "ipython2",
   "version": "2.7.15"
  }
 },
 "nbformat": 4,
 "nbformat_minor": 2
}
